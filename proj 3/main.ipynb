{
 "cells": [
  {
   "cell_type": "code",
   "execution_count": 4,
   "metadata": {},
   "outputs": [
    {
     "name": "stdout",
     "output_type": "stream",
     "text": [
      "Requirement already satisfied: opencv-python in c:\\users\\muskaan\\appdata\\local\\programs\\python\\python312\\lib\\site-packages (4.10.0.84)Note: you may need to restart the kernel to use updated packages.\n",
      "\n",
      "Requirement already satisfied: scikit-learn in c:\\users\\muskaan\\appdata\\local\\programs\\python\\python312\\lib\\site-packages (1.5.1)\n",
      "Requirement already satisfied: matplotlib in c:\\users\\muskaan\\appdata\\local\\programs\\python\\python312\\lib\\site-packages (3.9.1)\n",
      "Collecting scikit-image\n",
      "  Downloading scikit_image-0.24.0-cp312-cp312-win_amd64.whl.metadata (14 kB)\n",
      "Requirement already satisfied: numpy>=1.21.2 in c:\\users\\muskaan\\appdata\\local\\programs\\python\\python312\\lib\\site-packages (from opencv-python) (1.26.4)\n",
      "Requirement already satisfied: scipy>=1.6.0 in c:\\users\\muskaan\\appdata\\local\\programs\\python\\python312\\lib\\site-packages (from scikit-learn) (1.14.0)\n",
      "Requirement already satisfied: joblib>=1.2.0 in c:\\users\\muskaan\\appdata\\local\\programs\\python\\python312\\lib\\site-packages (from scikit-learn) (1.4.2)\n",
      "Requirement already satisfied: threadpoolctl>=3.1.0 in c:\\users\\muskaan\\appdata\\local\\programs\\python\\python312\\lib\\site-packages (from scikit-learn) (3.5.0)\n",
      "Requirement already satisfied: contourpy>=1.0.1 in c:\\users\\muskaan\\appdata\\local\\programs\\python\\python312\\lib\\site-packages (from matplotlib) (1.2.1)\n",
      "Requirement already satisfied: cycler>=0.10 in c:\\users\\muskaan\\appdata\\local\\programs\\python\\python312\\lib\\site-packages (from matplotlib) (0.12.1)\n",
      "Requirement already satisfied: fonttools>=4.22.0 in c:\\users\\muskaan\\appdata\\local\\programs\\python\\python312\\lib\\site-packages (from matplotlib) (4.53.1)\n",
      "Requirement already satisfied: kiwisolver>=1.3.1 in c:\\users\\muskaan\\appdata\\local\\programs\\python\\python312\\lib\\site-packages (from matplotlib) (1.4.5)\n",
      "Requirement already satisfied: packaging>=20.0 in c:\\users\\muskaan\\appdata\\roaming\\python\\python312\\site-packages (from matplotlib) (24.1)\n",
      "Requirement already satisfied: pillow>=8 in c:\\users\\muskaan\\appdata\\local\\programs\\python\\python312\\lib\\site-packages (from matplotlib) (10.4.0)\n",
      "Requirement already satisfied: pyparsing>=2.3.1 in c:\\users\\muskaan\\appdata\\local\\programs\\python\\python312\\lib\\site-packages (from matplotlib) (3.1.2)\n",
      "Requirement already satisfied: python-dateutil>=2.7 in c:\\users\\muskaan\\appdata\\local\\programs\\python\\python312\\lib\\site-packages (from matplotlib) (2.9.0.post0)\n",
      "Collecting networkx>=2.8 (from scikit-image)\n",
      "  Downloading networkx-3.3-py3-none-any.whl.metadata (5.1 kB)\n",
      "Collecting imageio>=2.33 (from scikit-image)\n",
      "  Downloading imageio-2.34.2-py3-none-any.whl.metadata (4.9 kB)\n",
      "Collecting tifffile>=2022.8.12 (from scikit-image)\n",
      "  Downloading tifffile-2024.7.2-py3-none-any.whl.metadata (30 kB)\n",
      "Collecting lazy-loader>=0.4 (from scikit-image)\n",
      "  Downloading lazy_loader-0.4-py3-none-any.whl.metadata (7.6 kB)\n",
      "Requirement already satisfied: six>=1.5 in c:\\users\\muskaan\\appdata\\local\\programs\\python\\python312\\lib\\site-packages (from python-dateutil>=2.7->matplotlib) (1.16.0)\n",
      "Downloading scikit_image-0.24.0-cp312-cp312-win_amd64.whl (12.9 MB)\n",
      "   ---------------------------------------- 0.0/12.9 MB ? eta -:--:--\n",
      "    --------------------------------------- 0.2/12.9 MB 5.1 MB/s eta 0:00:03\n",
      "   - -------------------------------------- 0.5/12.9 MB 5.4 MB/s eta 0:00:03\n",
      "   --- ------------------------------------ 1.3/12.9 MB 10.2 MB/s eta 0:00:02\n",
      "   ---- ----------------------------------- 1.6/12.9 MB 8.4 MB/s eta 0:00:02\n",
      "   -------- ------------------------------- 2.7/12.9 MB 11.2 MB/s eta 0:00:01\n",
      "   -------- ------------------------------- 2.9/12.9 MB 11.4 MB/s eta 0:00:01\n",
      "   -------- ------------------------------- 2.9/12.9 MB 8.7 MB/s eta 0:00:02\n",
      "   --------- ------------------------------ 3.1/12.9 MB 8.6 MB/s eta 0:00:02\n",
      "   ---------- ----------------------------- 3.4/12.9 MB 8.3 MB/s eta 0:00:02\n",
      "   ------------ --------------------------- 3.9/12.9 MB 8.7 MB/s eta 0:00:02\n",
      "   -------------- ------------------------- 4.6/12.9 MB 9.2 MB/s eta 0:00:01\n",
      "   ---------------- ----------------------- 5.2/12.9 MB 9.5 MB/s eta 0:00:01\n",
      "   ----------------- ---------------------- 5.6/12.9 MB 10.0 MB/s eta 0:00:01\n",
      "   ----------------- ---------------------- 5.6/12.9 MB 10.0 MB/s eta 0:00:01\n",
      "   ----------------- ---------------------- 5.6/12.9 MB 10.0 MB/s eta 0:00:01\n",
      "   ----------------- ---------------------- 5.6/12.9 MB 8.0 MB/s eta 0:00:01\n",
      "   ----------------- ---------------------- 5.7/12.9 MB 7.5 MB/s eta 0:00:01\n",
      "   ----------------- ---------------------- 5.7/12.9 MB 7.3 MB/s eta 0:00:01\n",
      "   ------------------ --------------------- 6.0/12.9 MB 7.1 MB/s eta 0:00:01\n",
      "   ------------------- -------------------- 6.3/12.9 MB 7.2 MB/s eta 0:00:01\n",
      "   -------------------- ------------------- 6.7/12.9 MB 7.4 MB/s eta 0:00:01\n",
      "   ---------------------- ----------------- 7.4/12.9 MB 7.6 MB/s eta 0:00:01\n",
      "   ------------------------- -------------- 8.4/12.9 MB 8.3 MB/s eta 0:00:01\n",
      "   -------------------------- ------------- 8.4/12.9 MB 7.9 MB/s eta 0:00:01\n",
      "   --------------------------- ------------ 8.9/12.9 MB 7.9 MB/s eta 0:00:01\n",
      "   ---------------------------- ----------- 9.2/12.9 MB 8.0 MB/s eta 0:00:01\n",
      "   ------------------------------ --------- 9.7/12.9 MB 8.1 MB/s eta 0:00:01\n",
      "   ------------------------------- -------- 10.1/12.9 MB 8.2 MB/s eta 0:00:01\n",
      "   -------------------------------- ------- 10.4/12.9 MB 8.2 MB/s eta 0:00:01\n",
      "   --------------------------------- ------ 10.7/12.9 MB 8.4 MB/s eta 0:00:01\n",
      "   ----------------------------------- ---- 11.3/12.9 MB 8.2 MB/s eta 0:00:01\n",
      "   ----------------------------------- ---- 11.6/12.9 MB 8.2 MB/s eta 0:00:01\n",
      "   ------------------------------------- -- 12.0/12.9 MB 8.1 MB/s eta 0:00:01\n",
      "   -------------------------------------- - 12.5/12.9 MB 8.1 MB/s eta 0:00:01\n",
      "   ---------------------------------------  12.9/12.9 MB 7.8 MB/s eta 0:00:01\n",
      "   ---------------------------------------  12.9/12.9 MB 7.8 MB/s eta 0:00:01\n",
      "   ---------------------------------------- 12.9/12.9 MB 7.4 MB/s eta 0:00:00\n",
      "Downloading imageio-2.34.2-py3-none-any.whl (313 kB)\n",
      "   ---------------------------------------- 0.0/313.5 kB ? eta -:--:--\n",
      "   ---------------------------------------  307.2/313.5 kB 9.6 MB/s eta 0:00:01\n",
      "   ---------------------------------------- 313.5/313.5 kB 4.9 MB/s eta 0:00:00\n",
      "Downloading lazy_loader-0.4-py3-none-any.whl (12 kB)\n",
      "Downloading networkx-3.3-py3-none-any.whl (1.7 MB)\n",
      "   ---------------------------------------- 0.0/1.7 MB ? eta -:--:--\n",
      "   --------- ------------------------------ 0.4/1.7 MB 13.2 MB/s eta 0:00:01\n",
      "   ------------------ --------------------- 0.8/1.7 MB 8.1 MB/s eta 0:00:01\n",
      "   ------------------------ --------------- 1.0/1.7 MB 8.2 MB/s eta 0:00:01\n",
      "   -------------------------------- ------- 1.4/1.7 MB 8.0 MB/s eta 0:00:01\n",
      "   ---------------------------------------  1.7/1.7 MB 7.7 MB/s eta 0:00:01\n",
      "   ---------------------------------------- 1.7/1.7 MB 6.4 MB/s eta 0:00:00\n",
      "Downloading tifffile-2024.7.2-py3-none-any.whl (225 kB)\n",
      "   ---------------------------------------- 0.0/225.9 kB ? eta -:--:--\n",
      "   ---------------------------------------- 225.9/225.9 kB 4.7 MB/s eta 0:00:00\n",
      "Installing collected packages: tifffile, networkx, lazy-loader, imageio, scikit-image\n",
      "Successfully installed imageio-2.34.2 lazy-loader-0.4 networkx-3.3 scikit-image-0.24.0 tifffile-2024.7.2\n"
     ]
    }
   ],
   "source": [
    "pip install opencv-python scikit-learn matplotlib scikit-image\n"
   ]
  },
  {
   "cell_type": "code",
   "execution_count": 9,
   "metadata": {},
   "outputs": [],
   "source": [
    "import os\n",
    "import numpy as np\n",
    "import cv2\n",
    "from sklearn.model_selection import train_test_split\n",
    "\n",
    "# Define paths\n",
    "base_dir = 'C:\\\\prodigy\\\\proj 3\\\\PetImages'\n",
    "train_dir = base_dir\n",
    "validation_dir = base_dir\n",
    "\n",
    "# Define image size and batch size\n",
    "img_size = 64\n",
    "batch_size = 32\n",
    "\n",
    "# Function to load images and labels\n",
    "def load_data(dir_path):\n",
    "    images = []\n",
    "    labels = []\n",
    "    for class_name in ['Cat', 'Dog']:\n",
    "        class_dir = os.path.join(dir_path, class_name)\n",
    "        for img_name in os.listdir(class_dir):\n",
    "            img_path = os.path.join(class_dir, img_name)\n",
    "            img = cv2.imread(img_path)\n",
    "            img = cv2.resize(img, (img_size, img_size))\n",
    "            img = img / 255.0  # Normalize\n",
    "            images.append(img)\n",
    "            labels.append(1 if class_name == 'Dog' else 0)\n",
    "    return np.array(images), np.array(labels)\n",
    "\n",
    "# Load data\n",
    "X_train, y_train = load_data(train_dir)\n",
    "X_val, y_val = load_data(validation_dir)\n",
    "\n",
    "# Split training data into training and validation sets\n",
    "X_train, X_val, y_train, y_val = train_test_split(X_train, y_train, test_size=0.2, random_state=42)\n"
   ]
  },
  {
   "cell_type": "code",
   "execution_count": 10,
   "metadata": {},
   "outputs": [
    {
     "name": "stdout",
     "output_type": "stream",
     "text": [
      "Validation Accuracy: 0.375\n"
     ]
    }
   ],
   "source": [
    "from sklearn import svm\n",
    "\n",
    "# Flatten the images for the SVM\n",
    "X_train_flat = X_train.reshape((X_train.shape[0], -1))\n",
    "X_val_flat = X_val.reshape((X_val.shape[0], -1))\n",
    "\n",
    "# Define the SVM model\n",
    "model = svm.SVC(kernel='linear', C=1.0)\n",
    "\n",
    "# Train the SVM model\n",
    "model.fit(X_train_flat, y_train)\n",
    "\n",
    "# Evaluate the model\n",
    "accuracy = model.score(X_val_flat, y_val)\n",
    "print(f'Validation Accuracy: {accuracy}')\n"
   ]
  },
  {
   "cell_type": "code",
   "execution_count": 11,
   "metadata": {},
   "outputs": [
    {
     "name": "stdout",
     "output_type": "stream",
     "text": [
      "Test Accuracy: 0.375\n"
     ]
    }
   ],
   "source": [
    "from sklearn.model_selection import train_test_split\n",
    "\n",
    "# Load data\n",
    "X, y = load_data(base_dir)\n",
    "\n",
    "# Split data into training and testing sets\n",
    "X_train, X_test, y_train, y_test = train_test_split(X, y, test_size=0.2, random_state=42)\n",
    "\n",
    "# Flatten the images for the SVM\n",
    "X_train_flat = X_train.reshape((X_train.shape[0], -1))\n",
    "X_test_flat = X_test.reshape((X_test.shape[0], -1))\n",
    "\n",
    "# Define the SVM model\n",
    "model = svm.SVC(kernel='linear', C=1.0)\n",
    "\n",
    "# Train the SVM model\n",
    "model.fit(X_train_flat, y_train)\n",
    "\n",
    "# Evaluate the model\n",
    "accuracy = model.score(X_test_flat, y_test)\n",
    "print(f'Test Accuracy: {accuracy}')\n"
   ]
  },
  {
   "cell_type": "code",
   "execution_count": 12,
   "metadata": {},
   "outputs": [
    {
     "name": "stderr",
     "output_type": "stream",
     "text": [
      "<>:64: SyntaxWarning: invalid escape sequence '\\p'\n",
      "<>:64: SyntaxWarning: invalid escape sequence '\\p'\n",
      "C:\\Users\\Muskaan\\AppData\\Local\\Temp\\ipykernel_29116\\3369311769.py:64: SyntaxWarning: invalid escape sequence '\\p'\n",
      "  img_path = 'C:\\prodigy\\proj 3\\Screenshot (14).png'\n"
     ]
    },
    {
     "name": "stdout",
     "output_type": "stream",
     "text": [
      "Test Accuracy: 0.375\n"
     ]
    }
   ],
   "source": [
    "import os\n",
    "import numpy as np\n",
    "import cv2\n",
    "from sklearn.model_selection import train_test_split\n",
    "from sklearn import svm\n",
    "\n",
    "# Define paths\n",
    "base_dir = 'C:\\\\prodigy\\\\proj 3\\\\PetImages'\n",
    "train_dir = base_dir\n",
    "test_dir = base_dir\n",
    "\n",
    "# Define image size and batch size\n",
    "img_size = 64\n",
    "batch_size = 32\n",
    "\n",
    "# Function to load images and labels\n",
    "def load_data(dir_path):\n",
    "    images = []\n",
    "    labels = []\n",
    "    for class_name in ['Cat', 'Dog']:\n",
    "        class_dir = os.path.join(dir_path, class_name)\n",
    "        for img_name in os.listdir(class_dir):\n",
    "            img_path = os.path.join(class_dir, img_name)\n",
    "            img = cv2.imread(img_path)\n",
    "            img = cv2.resize(img, (img_size, img_size))\n",
    "            img = img / 255.0  # Normalize\n",
    "            images.append(img)\n",
    "            labels.append(1 if class_name == 'Dog' else 0)\n",
    "    return np.array(images), np.array(labels)\n",
    "\n",
    "# Load data\n",
    "X, y = load_data(base_dir)\n",
    "\n",
    "# Split data into training and testing sets\n",
    "X_train, X_test, y_train, y_test = train_test_split(X, y, test_size=0.2, random_state=42)\n",
    "\n",
    "# Flatten the images for the SVM\n",
    "X_train_flat = X_train.reshape((X_train.shape[0], -1))\n",
    "X_test_flat = X_test.reshape((X_test.shape[0], -1))\n",
    "\n",
    "# Define the SVM model\n",
    "model = svm.SVC(kernel='linear', C=1.0)\n",
    "\n",
    "# Train the SVM model\n",
    "model.fit(X_train_flat, y_train)\n",
    "\n",
    "# Evaluate the model\n",
    "accuracy = model.score(X_test_flat, y_test)\n",
    "print(f'Test Accuracy: {accuracy}')\n",
    "\n",
    "# Function to predict the class of a new image and display the image along with the prediction\n",
    "def predict_image(img_path, model, img_size):\n",
    "    img = cv2.imread(img_path)\n",
    "    img = cv2.resize(img, (img_size, img_size))\n",
    "    img = img / 255.0\n",
    "    img_flat = img.reshape((1, -1))\n",
    "    prediction = model.predict(img_flat)\n",
    "    prediction_label = 'Dog' if prediction[0] == 1 else 'Cat'\n",
    "    cv2.imshow(prediction_label, img)\n",
    "    cv2.waitKey(0)\n",
    "    cv2.destroyAllWindows()\n",
    "\n",
    "# Example usage\n",
    "img_path = 'C:\\prodigy\\proj 3\\Screenshot (14).png'\n",
    "predict_image(img_path, model, img_size)\n"
   ]
  },
  {
   "cell_type": "code",
   "execution_count": 2,
   "metadata": {},
   "outputs": [
    {
     "name": "stderr",
     "output_type": "stream",
     "text": [
      "<>:83: SyntaxWarning: invalid escape sequence '\\p'\n",
      "<>:83: SyntaxWarning: invalid escape sequence '\\p'\n",
      "C:\\Users\\Muskaan\\AppData\\Local\\Temp\\ipykernel_29348\\843816981.py:83: SyntaxWarning: invalid escape sequence '\\p'\n",
      "  img_path = 'C:\\prodigy\\proj 3\\Screenshot (14).png'\n"
     ]
    },
    {
     "name": "stdout",
     "output_type": "stream",
     "text": [
      "Epoch 1/10\n",
      "\u001b[1m1/1\u001b[0m \u001b[32m━━━━━━━━━━━━━━━━━━━━\u001b[0m\u001b[37m\u001b[0m \u001b[1m2s\u001b[0m 2s/step - accuracy: 0.4375 - loss: 0.7000 - val_accuracy: 0.3750 - val_loss: 0.9073\n",
      "Epoch 2/10\n",
      "\u001b[1m1/1\u001b[0m \u001b[32m━━━━━━━━━━━━━━━━━━━━\u001b[0m\u001b[37m\u001b[0m \u001b[1m0s\u001b[0m 150ms/step - accuracy: 0.5312 - loss: 0.7432 - val_accuracy: 0.3750 - val_loss: 0.7068\n",
      "Epoch 3/10\n",
      "\u001b[1m1/1\u001b[0m \u001b[32m━━━━━━━━━━━━━━━━━━━━\u001b[0m\u001b[37m\u001b[0m \u001b[1m0s\u001b[0m 192ms/step - accuracy: 0.5312 - loss: 0.6866 - val_accuracy: 0.6250 - val_loss: 0.6706\n",
      "Epoch 4/10\n",
      "\u001b[1m1/1\u001b[0m \u001b[32m━━━━━━━━━━━━━━━━━━━━\u001b[0m\u001b[37m\u001b[0m \u001b[1m0s\u001b[0m 200ms/step - accuracy: 0.4688 - loss: 0.6964 - val_accuracy: 0.6250 - val_loss: 0.6705\n",
      "Epoch 5/10\n",
      "\u001b[1m1/1\u001b[0m \u001b[32m━━━━━━━━━━━━━━━━━━━━\u001b[0m\u001b[37m\u001b[0m \u001b[1m0s\u001b[0m 183ms/step - accuracy: 0.5000 - loss: 0.6922 - val_accuracy: 0.6250 - val_loss: 0.6769\n",
      "Epoch 6/10\n",
      "\u001b[1m1/1\u001b[0m \u001b[32m━━━━━━━━━━━━━━━━━━━━\u001b[0m\u001b[37m\u001b[0m \u001b[1m0s\u001b[0m 184ms/step - accuracy: 0.6250 - loss: 0.6783 - val_accuracy: 0.3750 - val_loss: 0.7019\n",
      "Epoch 7/10\n",
      "\u001b[1m1/1\u001b[0m \u001b[32m━━━━━━━━━━━━━━━━━━━━\u001b[0m\u001b[37m\u001b[0m \u001b[1m0s\u001b[0m 167ms/step - accuracy: 0.5625 - loss: 0.6688 - val_accuracy: 0.3750 - val_loss: 0.7430\n",
      "Epoch 8/10\n",
      "\u001b[1m1/1\u001b[0m \u001b[32m━━━━━━━━━━━━━━━━━━━━\u001b[0m\u001b[37m\u001b[0m \u001b[1m0s\u001b[0m 187ms/step - accuracy: 0.5312 - loss: 0.6809 - val_accuracy: 0.3750 - val_loss: 0.7465\n",
      "Epoch 9/10\n",
      "\u001b[1m1/1\u001b[0m \u001b[32m━━━━━━━━━━━━━━━━━━━━\u001b[0m\u001b[37m\u001b[0m \u001b[1m0s\u001b[0m 201ms/step - accuracy: 0.5312 - loss: 0.6687 - val_accuracy: 0.3750 - val_loss: 0.7261\n",
      "Epoch 10/10\n",
      "\u001b[1m1/1\u001b[0m \u001b[32m━━━━━━━━━━━━━━━━━━━━\u001b[0m\u001b[37m\u001b[0m \u001b[1m0s\u001b[0m 187ms/step - accuracy: 0.5312 - loss: 0.6569 - val_accuracy: 0.3750 - val_loss: 0.6936\n",
      "\u001b[1m1/1\u001b[0m \u001b[32m━━━━━━━━━━━━━━━━━━━━\u001b[0m\u001b[37m\u001b[0m \u001b[1m0s\u001b[0m 39ms/step - accuracy: 0.3750 - loss: 0.6936\n",
      "Test Accuracy: 0.375\n",
      "\u001b[1m1/1\u001b[0m \u001b[32m━━━━━━━━━━━━━━━━━━━━\u001b[0m\u001b[37m\u001b[0m \u001b[1m0s\u001b[0m 84ms/step\n"
     ]
    }
   ],
   "source": [
    "import os\n",
    "import numpy as np\n",
    "import cv2\n",
    "from sklearn.model_selection import train_test_split\n",
    "from sklearn import svm\n",
    "from tensorflow.keras.preprocessing.image import ImageDataGenerator\n",
    "from tensorflow.keras.models import Sequential\n",
    "from tensorflow.keras.layers import Conv2D, MaxPooling2D, Flatten, Dense\n",
    "\n",
    "# Define paths\n",
    "base_dir = 'C:\\\\prodigy\\\\proj 3\\\\PetImages'\n",
    "train_dir = base_dir\n",
    "test_dir = base_dir\n",
    "\n",
    "# Define image size and batch size\n",
    "img_size = 64\n",
    "batch_size = 32\n",
    "\n",
    "# Function to load images and labels\n",
    "def load_data(dir_path):\n",
    "    images = []\n",
    "    labels = []\n",
    "    for class_name in ['Cat', 'Dog']:\n",
    "        class_dir = os.path.join(dir_path, class_name)\n",
    "        for img_name in os.listdir(class_dir):\n",
    "            img_path = os.path.join(class_dir, img_name)\n",
    "            img = cv2.imread(img_path)\n",
    "            img = cv2.resize(img, (img_size, img_size))\n",
    "            img = img / 255.0  # Normalize\n",
    "            images.append(img)\n",
    "            labels.append(1 if class_name == 'Dog' else 0)\n",
    "    return np.array(images), np.array(labels)\n",
    "\n",
    "# Load data\n",
    "X, y = load_data(base_dir)\n",
    "\n",
    "# Split data into training and testing sets\n",
    "X_train, X_test, y_train, y_test = train_test_split(X, y, test_size=0.2, random_state=42)\n",
    "\n",
    "# Define the CNN model\n",
    "model = Sequential([\n",
    "    Conv2D(32, (3, 3), activation='relu', input_shape=(img_size, img_size, 3)),\n",
    "    MaxPooling2D((2, 2)),\n",
    "    Conv2D(64, (3, 3), activation='relu'),\n",
    "    MaxPooling2D((2, 2)),\n",
    "    Flatten(),\n",
    "    Dense(64, activation='relu'),\n",
    "    Dense(1, activation='sigmoid')\n",
    "])\n",
    "\n",
    "# Compile the model\n",
    "model.compile(optimizer='adam', loss='binary_crossentropy', metrics=['accuracy'])\n",
    "\n",
    "# Apply data augmentation\n",
    "datagen = ImageDataGenerator(\n",
    "    rotation_range=20,\n",
    "    width_shift_range=0.2,\n",
    "    height_shift_range=0.2,\n",
    "    horizontal_flip=True\n",
    ")\n",
    "\n",
    "# Train the CNN model\n",
    "datagen.fit(X_train)\n",
    "model.fit(datagen.flow(X_train, y_train, batch_size=batch_size), epochs=10, validation_data=(X_test, y_test))\n",
    "\n",
    "# Evaluate the model\n",
    "accuracy = model.evaluate(X_test, y_test)[1]\n",
    "print(f'Test Accuracy: {accuracy}')\n",
    "\n",
    "# Function to predict the class of a new image and display the image along with the prediction\n",
    "def predict_image(img_path, model, img_size):\n",
    "    img = cv2.imread(img_path)\n",
    "    img = cv2.resize(img, (img_size, img_size))\n",
    "    img = img / 255.0\n",
    "    img_flat = img.reshape((1, img_size, img_size, 3))\n",
    "    prediction = model.predict(img_flat)\n",
    "    prediction_label = 'Dog' if prediction[0][0] > 0.5 else 'Cat'\n",
    "    cv2.imshow(prediction_label, img)\n",
    "    cv2.waitKey(0)\n",
    "    cv2.destroyAllWindows()\n",
    "\n",
    "# Example usage\n",
    "img_path = 'C:\\prodigy\\proj 3\\Screenshot (14).png'\n",
    "predict_image(img_path, model, img_size)\n"
   ]
  },
  {
   "cell_type": "code",
   "execution_count": 3,
   "metadata": {},
   "outputs": [],
   "source": [
    "def predict_image(img_path, model, img_size):\n",
    "    img = cv2.imread(img_path)\n",
    "    img = cv2.resize(img, (img_size, img_size))\n",
    "    img = img / 255.0\n",
    "    img_flat = img.reshape((1, img_size, img_size, 3))\n",
    "    prediction = model.predict(img_flat)\n",
    "    prediction_label = 'Dog' if prediction[0][0] > 0.5 else 'Cat'\n",
    "    print(f'The image is a {prediction_label}.')\n",
    "    cv2.imshow(prediction_label, img)\n",
    "    cv2.waitKey(0)\n",
    "    cv2.destroyAllWindows()\n"
   ]
  },
  {
   "cell_type": "code",
   "execution_count": 4,
   "metadata": {},
   "outputs": [
    {
     "name": "stdout",
     "output_type": "stream",
     "text": [
      "C:\\prodigy\\proj 3\\Screenshot (14).png\n"
     ]
    }
   ],
   "source": [
    "print(img_path)\n"
   ]
  },
  {
   "cell_type": "code",
   "execution_count": 5,
   "metadata": {},
   "outputs": [
    {
     "name": "stdout",
     "output_type": "stream",
     "text": [
      "\u001b[1m1/1\u001b[0m \u001b[32m━━━━━━━━━━━━━━━━━━━━\u001b[0m\u001b[37m\u001b[0m \u001b[1m0s\u001b[0m 31ms/step - accuracy: 0.3750 - loss: 0.6936\n",
      "Test Accuracy: 0.375\n"
     ]
    }
   ],
   "source": [
    "accuracy = model.evaluate(X_test, y_test)[1]\n",
    "print(f'Test Accuracy: {accuracy}')\n"
   ]
  },
  {
   "cell_type": "code",
   "execution_count": 8,
   "metadata": {},
   "outputs": [
    {
     "name": "stdout",
     "output_type": "stream",
     "text": [
      "\u001b[1m1/1\u001b[0m \u001b[32m━━━━━━━━━━━━━━━━━━━━\u001b[0m\u001b[37m\u001b[0m \u001b[1m0s\u001b[0m 41ms/step\n",
      "The image is a Dog.\n",
      "Prediction: Dog\n"
     ]
    }
   ],
   "source": [
    "def predict_image(img_path, model, img_size):\n",
    "    img = cv2.imread(img_path)\n",
    "    img = cv2.resize(img, (img_size, img_size))\n",
    "    img = img / 255.0\n",
    "    img_flat = img.reshape((1, img_size, img_size, 3))\n",
    "    prediction = model.predict(img_flat)\n",
    "    prediction_label = 'Dog' if prediction[0][0] > 0.5 else 'Cat'\n",
    "    print(f'The image is a {prediction_label}.')\n",
    "    cv2.imshow(prediction_label, img)\n",
    "    cv2.waitKey(0)\n",
    "    cv2.destroyAllWindows()\n",
    "    return prediction_label\n",
    "\n",
    "# Example usage\n",
    "img_path = 'dog_test.png'\n",
    "prediction_label = predict_image(img_path, model, img_size)\n",
    "print(f'Prediction: {prediction_label}')\n"
   ]
  },
  {
   "cell_type": "code",
   "execution_count": 9,
   "metadata": {},
   "outputs": [
    {
     "name": "stdout",
     "output_type": "stream",
     "text": [
      "\u001b[1m1/1\u001b[0m \u001b[32m━━━━━━━━━━━━━━━━━━━━\u001b[0m\u001b[37m\u001b[0m \u001b[1m0s\u001b[0m 30ms/step\n",
      "The image is a Cat.\n",
      "Prediction: Cat\n"
     ]
    }
   ],
   "source": [
    "def predict_image(img_path, model, img_size):\n",
    "    img = cv2.imread(img_path)\n",
    "    img = cv2.resize(img, (img_size, img_size))\n",
    "    img = img / 255.0\n",
    "    img_flat = img.reshape((1, img_size, img_size, 3))\n",
    "    prediction = model.predict(img_flat)\n",
    "    prediction_label = 'Dog' if prediction[0][0] > 0.5 else 'Cat'\n",
    "    print(f'The image is a {prediction_label}.')\n",
    "    cv2.imshow(prediction_label, img)\n",
    "    cv2.waitKey(0)\n",
    "    cv2.destroyAllWindows()\n",
    "    return prediction_label\n",
    "\n",
    "# Example usage\n",
    "img_path = 'cat_test.png'\n",
    "prediction_label = predict_image(img_path, model, img_size)\n",
    "print(f'Prediction: {prediction_label}')\n"
   ]
  }
 ],
 "metadata": {
  "kernelspec": {
   "display_name": "Python 3",
   "language": "python",
   "name": "python3"
  },
  "language_info": {
   "codemirror_mode": {
    "name": "ipython",
    "version": 3
   },
   "file_extension": ".py",
   "mimetype": "text/x-python",
   "name": "python",
   "nbconvert_exporter": "python",
   "pygments_lexer": "ipython3",
   "version": "3.12.4"
  }
 },
 "nbformat": 4,
 "nbformat_minor": 2
}
